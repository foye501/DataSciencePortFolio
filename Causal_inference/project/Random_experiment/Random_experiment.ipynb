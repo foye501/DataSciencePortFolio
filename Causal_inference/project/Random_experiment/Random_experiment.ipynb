{
 "cells": [
  {
   "cell_type": "markdown",
   "id": "6c39f508",
   "metadata": {},
   "source": [
    "# Investigating Racial Discrimination in the Labor Market\n",
    "\n",
    "## Introduction\n",
    "\n",
    "This project aims to explore whether there is racial discrimination against African-Americans in the labor market. We use two datasets: an observational survey from Chicago and Boston in 2001, and a randomized experiment conducted by [Bertrand and Mullainathan (2004)](./BertrandMullainathan2004.pdf). The survey dataset includes variables such as race, years of experience, education level, and employment status. The experimental dataset includes variables such as race, gender, education, computer skills, number of jobs listed, years of experience, and callback for interviews."
   ]
  },
  {
   "cell_type": "markdown",
   "id": "87830441",
   "metadata": {},
   "source": [
    "## Data Description\n",
    "\n",
    "### Observational Survey Data\n",
    "- **black**: Dummy variable for race (0 = White, 1 = Black)\n",
    "- **yearsexp**: Years of work experience\n",
    "- **somecol_more**: 1 if college dropout or higher, 0 otherwise\n",
    "- **employed**: 1 if employed, 0 if unemployed\n",
    "\n",
    "### Randomized Experiment Data\n",
    "- **id**: Unique identifier for each observation\n",
    "- **male**: Dummy variable for gender (0 = Female, 1 = Male)\n",
    "- **black**: Dummy variable for race (0 = White-sounding name, 1 = Black-sounding name)\n",
    "- **education**: Education level (0 to 4)\n",
    "- **computerskills**: 1 if resume mentions computer skills, 0 otherwise\n",
    "- **ofjobs**: Number of jobs listed on the resume\n",
    "- **yearsexp**: Years of work experience\n",
    "- **call**: 1 if applicant was called back, 0 otherwise"
   ]
  },
  {
   "cell_type": "markdown",
   "id": "56bf512d",
   "metadata": {},
   "source": [
    "## Methodology\n",
    "\n",
    "To investigate potential racial discrimination, we performed the following steps:\n",
    "1. **Covariate Balance**: Checked if key variables (somecol_more, yearsexp) are balanced across races using t-tests.\n",
    "2. **Employment Status**: Tested if employment rates differ between races.\n",
    "3. **Callback Rates**: Examined if callback rates differ between races in the experimental data.\n",
    "4. **Gender Analysis**: Analyzed callback rates conditional on gender.\n",
    "\n",
    "We used two-sided t-tests to determine if there are significant differences in means between groups."
   ]
  },
  {
   "cell_type": "code",
   "execution_count": 3,
   "id": "ce78c537",
   "metadata": {},
   "outputs": [
    {
     "name": "stdout",
     "output_type": "stream",
     "text": [
      "T-test for somecol_more: Ttest_indResult(statistic=-11.24095598344323, pvalue=3.7514090837794205e-29)\n"
     ]
    }
   ],
   "source": [
    "## Analysis and Results\n",
    "\n",
    "### Covariate Balance\n",
    "\n",
    "import pandas as pd\n",
    "import numpy as np\n",
    "from scipy import stats\n",
    "\n",
    "# Load the survey data\n",
    "data_survey = pd.read_csv('assets/survey.csv')\n",
    "\n",
    "# T-test for somecol_more\n",
    "black_col = data_survey[data_survey[\"black\"] == 1][\"somecol_more\"]\n",
    "white_col = data_survey[data_survey[\"black\"] == 0][\"somecol_more\"]\n",
    "ttest1_1 = stats.ttest_ind(black_col, white_col)\n",
    "print(\"T-test for somecol_more:\", ttest1_1)"
   ]
  },
  {
   "cell_type": "markdown",
   "id": "b9bd84ed",
   "metadata": {},
   "source": [
    "The p-value is close to 0, indicating a significant difference in somecol_more between African-Americans and Whites."
   ]
  },
  {
   "cell_type": "code",
   "execution_count": 4,
   "id": "d6082dd5",
   "metadata": {},
   "outputs": [
    {
     "name": "stdout",
     "output_type": "stream",
     "text": [
      "T-test for employment status: Ttest_indResult(statistic=-7.1420030594715485, pvalue=9.802071342176244e-13)\n"
     ]
    }
   ],
   "source": [
    "\n",
    "# T-test for employment status\n",
    "black_employed = data_survey[data_survey[\"black\"] == 1][\"employed\"]\n",
    "white_employed = data_survey[data_survey[\"black\"] == 0][\"employed\"]\n",
    "ttest1_4 = stats.ttest_ind(black_employed, white_employed)\n",
    "print(\"T-test for employment status:\", ttest1_4)"
   ]
  },
  {
   "cell_type": "markdown",
   "id": "b5253eaa",
   "metadata": {},
   "source": [
    "The p-value is close to 0, indicating a significant difference in employment status between races."
   ]
  },
  {
   "cell_type": "code",
   "execution_count": 6,
   "id": "a9f7c539",
   "metadata": {},
   "outputs": [
    {
     "name": "stdout",
     "output_type": "stream",
     "text": [
      "T-test for callback rates: Ttest_indResult(statistic=-4.114705266723095, pvalue=3.9408025140695284e-05)\n"
     ]
    }
   ],
   "source": [
    "# Load the experimental data\n",
    "data_random = pd.read_csv('assets/random_exper.csv')\n",
    "\n",
    "# T-test for callback rates\n",
    "data_black_call = data_random[data_random[\"black\"] == 1][\"call\"]\n",
    "data_white_call = data_random[data_random[\"black\"] == 0][\"call\"]\n",
    "ttest2_4_1 = stats.ttest_ind(data_black_call, data_white_call)\n",
    "print(\"T-test for callback rates:\", ttest2_4_1)"
   ]
  },
  {
   "cell_type": "markdown",
   "id": "9d1573d3",
   "metadata": {},
   "source": [
    "The p-value is 3.94e-5, indicating significant discrimination in callback rates."
   ]
  },
  {
   "cell_type": "code",
   "execution_count": 7,
   "id": "f7d728e8",
   "metadata": {},
   "outputs": [
    {
     "name": "stdout",
     "output_type": "stream",
     "text": [
      "T-test for female callback rates: Ttest_indResult(statistic=-3.6369213964305627, pvalue=0.0002796319942029361)\n",
      "T-test for male callback rates: Ttest_indResult(statistic=-1.9501711134984252, pvalue=0.05140448724722174)\n"
     ]
    }
   ],
   "source": [
    "# T-test for callback rates by gender\n",
    "data_female_b_call = data_random[(data_random[\"male\"] == 0) & (data_random[\"black\"] == 1)][\"call\"]\n",
    "data_female_w_call = data_random[(data_random[\"male\"] == 0) & (data_random[\"black\"] == 0)][\"call\"]\n",
    "ttest2_5_1 = stats.ttest_ind(data_female_b_call, data_female_w_call)\n",
    "print(\"T-test for female callback rates:\", ttest2_5_1)\n",
    "\n",
    "data_male_b_call = data_random[(data_random[\"male\"] == 1) & (data_random[\"black\"] == 1)][\"call\"]\n",
    "data_male_w_call = data_random[(data_random[\"male\"] == 1) & (data_random[\"black\"] == 0)][\"call\"]\n",
    "ttest2_5_2 = stats.ttest_ind(data_male_b_call, data_male_w_call)\n",
    "print(\"T-test for male callback rates:\", ttest2_5_2)"
   ]
  },
  {
   "cell_type": "markdown",
   "id": "a6bade7d",
   "metadata": {},
   "source": [
    "Both p-values indicate significant differences in callback rates by race for both females and males."
   ]
  },
  {
   "cell_type": "markdown",
   "id": "165e2973",
   "metadata": {},
   "source": [
    "\n",
    "## Conclusion\n",
    "\n",
    "Our analysis reveals significant differences in employment status and callback rates between African-Americans and Whites, suggesting the presence of racial discrimination in the labor market. The randomized experiment further confirms this finding, with significant disparities in callback rates for both genders. These results highlight the need for policies and practices to address racial biases in hiring."
   ]
  },
  {
   "cell_type": "markdown",
   "id": "3fdbf66e",
   "metadata": {},
   "source": [
    "## References\n",
    "\n",
    "- Bertrand, M., & Mullainathan, S. (2004). Are Emily and Greg More Employable than Lakisha and Jamal? A Field Experiment on Labor Market Discrimination. American Economic Review, 94(4), 991-1013."
   ]
  },
  {
   "cell_type": "code",
   "execution_count": null,
   "id": "5e30923f",
   "metadata": {},
   "outputs": [],
   "source": []
  }
 ],
 "metadata": {
  "kernelspec": {
   "display_name": "MADS2",
   "language": "python",
   "name": "mads"
  },
  "language_info": {
   "codemirror_mode": {
    "name": "ipython",
    "version": 3
   },
   "file_extension": ".py",
   "mimetype": "text/x-python",
   "name": "python",
   "nbconvert_exporter": "python",
   "pygments_lexer": "ipython3",
   "version": "3.8.13"
  }
 },
 "nbformat": 4,
 "nbformat_minor": 5
}
