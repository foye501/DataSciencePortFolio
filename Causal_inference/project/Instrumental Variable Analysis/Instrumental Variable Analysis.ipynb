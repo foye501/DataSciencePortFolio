{
 "cells": [
  {
   "cell_type": "markdown",
   "id": "9122c946",
   "metadata": {},
   "source": [
    "# Investigating the Impact of Learning Styles on Course Completion Rates\n",
    "\n",
    "## Introduction\n",
    "\n",
    "In this project, we explore whether a specific learning style—binge learning—can increase the likelihood of course completion among learners on Coursera. Binge learning is defined as completing and starting consecutive weeks of a course on the same day. To investigate this, we use a dataset containing information on 49,808 learners and employ various statistical methods, including regression analysis and instrumental variable (IV) techniques, to draw causal inferences.\n",
    "\n",
    "## Data Description\n",
    "\n",
    "The dataset `lecture3.csv` contains the following variables:\n",
    "- **id**: A unique identifier for each learner\n",
    "- **paid_enroll**: Dummy variable indicating if a learner has paid for enrollment (1 = yes, 0 = no)\n",
    "- **prv_wk_nbr**: The most recent course week a learner has completed\n",
    "- **prv_wk_min**: The minutes a learner spent in the previous week on the platform\n",
    "- **message**: Dummy variable indicating if a learner received a message encouraging binge learning (1 = yes, 0 = no)\n",
    "- **binge**: Dummy variable indicating if a learner has binged (1 = yes, 0 = no)\n",
    "- **complete**: Dummy variable indicating if a learner completed the next week in the course (1 = yes, 0 = no)\n",
    "\n",
    "## Methodology\n",
    "\n",
    "To determine the impact of binge learning on course completion, we follow these steps:\n",
    "1. **Regression Analysis**: Analyze the relationship between binge learning and course completion.\n",
    "2. **Instrumental Variable Analysis**: Use a randomized encouragement trial to address potential self-selection bias.\n",
    "\n",
    "## Analysis and Results"
   ]
  },
  {
   "cell_type": "code",
   "execution_count": 6,
   "id": "0951f7d4",
   "metadata": {},
   "outputs": [
    {
     "data": {
      "text/html": [
       "<div>\n",
       "<style scoped>\n",
       "    .dataframe tbody tr th:only-of-type {\n",
       "        vertical-align: middle;\n",
       "    }\n",
       "\n",
       "    .dataframe tbody tr th {\n",
       "        vertical-align: top;\n",
       "    }\n",
       "\n",
       "    .dataframe thead th {\n",
       "        text-align: right;\n",
       "    }\n",
       "</style>\n",
       "<table border=\"1\" class=\"dataframe\">\n",
       "  <thead>\n",
       "    <tr style=\"text-align: right;\">\n",
       "      <th></th>\n",
       "      <th>id</th>\n",
       "      <th>paid_enroll</th>\n",
       "      <th>prv_wk_nbr</th>\n",
       "      <th>prv_wk_min</th>\n",
       "      <th>message</th>\n",
       "      <th>binge</th>\n",
       "      <th>complete</th>\n",
       "    </tr>\n",
       "  </thead>\n",
       "  <tbody>\n",
       "    <tr>\n",
       "      <th>0</th>\n",
       "      <td>1</td>\n",
       "      <td>1</td>\n",
       "      <td>2</td>\n",
       "      <td>193</td>\n",
       "      <td>0</td>\n",
       "      <td>1</td>\n",
       "      <td>1</td>\n",
       "    </tr>\n",
       "    <tr>\n",
       "      <th>1</th>\n",
       "      <td>2</td>\n",
       "      <td>0</td>\n",
       "      <td>5</td>\n",
       "      <td>194</td>\n",
       "      <td>0</td>\n",
       "      <td>1</td>\n",
       "      <td>1</td>\n",
       "    </tr>\n",
       "    <tr>\n",
       "      <th>2</th>\n",
       "      <td>3</td>\n",
       "      <td>1</td>\n",
       "      <td>1</td>\n",
       "      <td>45</td>\n",
       "      <td>0</td>\n",
       "      <td>0</td>\n",
       "      <td>1</td>\n",
       "    </tr>\n",
       "    <tr>\n",
       "      <th>3</th>\n",
       "      <td>4</td>\n",
       "      <td>1</td>\n",
       "      <td>4</td>\n",
       "      <td>118</td>\n",
       "      <td>0</td>\n",
       "      <td>0</td>\n",
       "      <td>1</td>\n",
       "    </tr>\n",
       "    <tr>\n",
       "      <th>4</th>\n",
       "      <td>5</td>\n",
       "      <td>0</td>\n",
       "      <td>5</td>\n",
       "      <td>247</td>\n",
       "      <td>0</td>\n",
       "      <td>1</td>\n",
       "      <td>1</td>\n",
       "    </tr>\n",
       "  </tbody>\n",
       "</table>\n",
       "</div>"
      ],
      "text/plain": [
       "   id  paid_enroll  prv_wk_nbr  prv_wk_min  message  binge  complete\n",
       "0   1            1           2         193        0      1         1\n",
       "1   2            0           5         194        0      1         1\n",
       "2   3            1           1          45        0      0         1\n",
       "3   4            1           4         118        0      0         1\n",
       "4   5            0           5         247        0      1         1"
      ]
     },
     "execution_count": 6,
     "metadata": {},
     "output_type": "execute_result"
    }
   ],
   "source": [
    "# Import necessary libraries\n",
    "import pandas as pd\n",
    "import numpy as np\n",
    "import statsmodels.api as sm\n",
    "import statsmodels.formula.api as smf\n",
    "from linearmodels import IV2SLS\n",
    "\n",
    "# Load the dataset\n",
    "data_coursera = pd.read_csv('assets/lecture3.csv')\n",
    "\n",
    "# Display the first few rows of the dataset\n",
    "data_coursera.head()"
   ]
  },
  {
   "cell_type": "code",
   "execution_count": 8,
   "id": "7db292f9",
   "metadata": {},
   "outputs": [
    {
     "data": {
      "text/plain": [
       "0.4619"
      ]
     },
     "execution_count": 8,
     "metadata": {},
     "output_type": "execute_result"
    }
   ],
   "source": [
    "# Using robust standard errors in the statsmodels module, regress the variable complete on binge\n",
    "reg = smf.ols(formula='complete ~ binge', data=data_coursera).fit()\n",
    "binge_coeff1_1 = round(reg.params['binge'], 4)\n",
    "binge_coeff1_1"
   ]
  },
  {
   "cell_type": "code",
   "execution_count": 7,
   "id": "809e1740",
   "metadata": {},
   "outputs": [
    {
     "data": {
      "text/plain": [
       "0.3172"
      ]
     },
     "execution_count": 7,
     "metadata": {},
     "output_type": "execute_result"
    }
   ],
   "source": [
    "# Run the regression one more time with additional controls: paid_enroll, prv_wk_nbr, prv_wk_min\n",
    "reg2 = smf.ols(formula='complete ~ binge + paid_enroll + prv_wk_nbr + prv_wk_min', data=data_coursera).fit()\n",
    "binge_coeff1_2 = round(reg2.params['binge'], 4)\n",
    "binge_coeff1_2"
   ]
  },
  {
   "cell_type": "markdown",
   "id": "77d6f134",
   "metadata": {},
   "source": [
    "When the point estimate we are interested in (i.e., the coefficient in front of variable binge) changes drastically with the inclusion of further covariates, we consider that to be worrisome for causal inference purposes (remember the regression sensitivity analysis). Furthermore, intuitively the positive correlation between bingeing and completion could just be the result of self-selection by learners who are both inherently more likely to complete as well as more likely to binge because of higher motivation. To overcome this problem, researchers in Coursera decided to run a randomized encouragement trial. They randomly split their learners into two groups. The treatment group received a message immediately after completing a week of material. The goal of the message was to encourage learners to start the next week right away. The control group didn’t receive the message.\n",
    "\n",
    "### Instrumental Variable Analysis\n",
    "\n",
    "We will use the binary variable message as our instrument to investigate the impact of bingeing on completion of the following week’s lecture."
   ]
  },
  {
   "cell_type": "code",
   "execution_count": 10,
   "id": "0ff29b60",
   "metadata": {},
   "outputs": [
    {
     "data": {
      "text/html": [
       "<table class=\"simpletable\">\n",
       "<caption>OLS Regression Results</caption>\n",
       "<tr>\n",
       "  <th>Dep. Variable:</th>          <td>binge</td>      <th>  R-squared:         </th> <td>   0.018</td> \n",
       "</tr>\n",
       "<tr>\n",
       "  <th>Model:</th>                   <td>OLS</td>       <th>  Adj. R-squared:    </th> <td>   0.018</td> \n",
       "</tr>\n",
       "<tr>\n",
       "  <th>Method:</th>             <td>Least Squares</td>  <th>  F-statistic:       </th> <td>   911.9</td> \n",
       "</tr>\n",
       "<tr>\n",
       "  <th>Date:</th>             <td>Wed, 24 Jul 2024</td> <th>  Prob (F-statistic):</th> <td>1.55e-198</td>\n",
       "</tr>\n",
       "<tr>\n",
       "  <th>Time:</th>                 <td>15:30:49</td>     <th>  Log-Likelihood:    </th> <td> -16053.</td> \n",
       "</tr>\n",
       "<tr>\n",
       "  <th>No. Observations:</th>      <td> 49808</td>      <th>  AIC:               </th> <td>3.211e+04</td>\n",
       "</tr>\n",
       "<tr>\n",
       "  <th>Df Residuals:</th>          <td> 49806</td>      <th>  BIC:               </th> <td>3.213e+04</td>\n",
       "</tr>\n",
       "<tr>\n",
       "  <th>Df Model:</th>              <td>     1</td>      <th>                     </th>     <td> </td>    \n",
       "</tr>\n",
       "<tr>\n",
       "  <th>Covariance Type:</th>         <td>HC1</td>       <th>                     </th>     <td> </td>    \n",
       "</tr>\n",
       "</table>\n",
       "<table class=\"simpletable\">\n",
       "<tr>\n",
       "      <td></td>         <th>coef</th>     <th>std err</th>      <th>t</th>      <th>P>|t|</th>  <th>[0.025</th>    <th>0.975]</th>  \n",
       "</tr>\n",
       "<tr>\n",
       "  <th>Intercept</th> <td>    0.8243</td> <td>    0.002</td> <td>  342.078</td> <td> 0.000</td> <td>    0.820</td> <td>    0.829</td>\n",
       "</tr>\n",
       "<tr>\n",
       "  <th>message</th>   <td>    0.0903</td> <td>    0.003</td> <td>   30.198</td> <td> 0.000</td> <td>    0.084</td> <td>    0.096</td>\n",
       "</tr>\n",
       "</table>\n",
       "<table class=\"simpletable\">\n",
       "<tr>\n",
       "  <th>Omnibus:</th>       <td>18923.394</td> <th>  Durbin-Watson:     </th> <td>   2.007</td> \n",
       "</tr>\n",
       "<tr>\n",
       "  <th>Prob(Omnibus):</th>  <td> 0.000</td>   <th>  Jarque-Bera (JB):  </th> <td>52775.181</td>\n",
       "</tr>\n",
       "<tr>\n",
       "  <th>Skew:</th>           <td>-2.131</td>   <th>  Prob(JB):          </th> <td>    0.00</td> \n",
       "</tr>\n",
       "<tr>\n",
       "  <th>Kurtosis:</th>       <td> 5.696</td>   <th>  Cond. No.          </th> <td>    2.62</td> \n",
       "</tr>\n",
       "</table><br/><br/>Notes:<br/>[1] Standard Errors are heteroscedasticity robust (HC1)"
      ],
      "text/latex": [
       "\\begin{center}\n",
       "\\begin{tabular}{lclc}\n",
       "\\toprule\n",
       "\\textbf{Dep. Variable:}    &      binge       & \\textbf{  R-squared:         } &     0.018   \\\\\n",
       "\\textbf{Model:}            &       OLS        & \\textbf{  Adj. R-squared:    } &     0.018   \\\\\n",
       "\\textbf{Method:}           &  Least Squares   & \\textbf{  F-statistic:       } &     911.9   \\\\\n",
       "\\textbf{Date:}             & Wed, 24 Jul 2024 & \\textbf{  Prob (F-statistic):} & 1.55e-198   \\\\\n",
       "\\textbf{Time:}             &     15:30:49     & \\textbf{  Log-Likelihood:    } &   -16053.   \\\\\n",
       "\\textbf{No. Observations:} &       49808      & \\textbf{  AIC:               } & 3.211e+04   \\\\\n",
       "\\textbf{Df Residuals:}     &       49806      & \\textbf{  BIC:               } & 3.213e+04   \\\\\n",
       "\\textbf{Df Model:}         &           1      & \\textbf{                     } &             \\\\\n",
       "\\textbf{Covariance Type:}  &       HC1        & \\textbf{                     } &             \\\\\n",
       "\\bottomrule\n",
       "\\end{tabular}\n",
       "\\begin{tabular}{lcccccc}\n",
       "                   & \\textbf{coef} & \\textbf{std err} & \\textbf{t} & \\textbf{P$> |$t$|$} & \\textbf{[0.025} & \\textbf{0.975]}  \\\\\n",
       "\\midrule\n",
       "\\textbf{Intercept} &       0.8243  &        0.002     &   342.078  &         0.000        &        0.820    &        0.829     \\\\\n",
       "\\textbf{message}   &       0.0903  &        0.003     &    30.198  &         0.000        &        0.084    &        0.096     \\\\\n",
       "\\bottomrule\n",
       "\\end{tabular}\n",
       "\\begin{tabular}{lclc}\n",
       "\\textbf{Omnibus:}       & 18923.394 & \\textbf{  Durbin-Watson:     } &     2.007  \\\\\n",
       "\\textbf{Prob(Omnibus):} &    0.000  & \\textbf{  Jarque-Bera (JB):  } & 52775.181  \\\\\n",
       "\\textbf{Skew:}          &   -2.131  & \\textbf{  Prob(JB):          } &      0.00  \\\\\n",
       "\\textbf{Kurtosis:}      &    5.696  & \\textbf{  Cond. No.          } &      2.62  \\\\\n",
       "\\bottomrule\n",
       "\\end{tabular}\n",
       "%\\caption{OLS Regression Results}\n",
       "\\end{center}\n",
       "\n",
       "Notes: \\newline\n",
       " [1] Standard Errors are heteroscedasticity robust (HC1)"
      ],
      "text/plain": [
       "<class 'statsmodels.iolib.summary.Summary'>\n",
       "\"\"\"\n",
       "                            OLS Regression Results                            \n",
       "==============================================================================\n",
       "Dep. Variable:                  binge   R-squared:                       0.018\n",
       "Model:                            OLS   Adj. R-squared:                  0.018\n",
       "Method:                 Least Squares   F-statistic:                     911.9\n",
       "Date:                Wed, 24 Jul 2024   Prob (F-statistic):          1.55e-198\n",
       "Time:                        15:30:49   Log-Likelihood:                -16053.\n",
       "No. Observations:               49808   AIC:                         3.211e+04\n",
       "Df Residuals:                   49806   BIC:                         3.213e+04\n",
       "Df Model:                           1                                         \n",
       "Covariance Type:                  HC1                                         \n",
       "==============================================================================\n",
       "                 coef    std err          t      P>|t|      [0.025      0.975]\n",
       "------------------------------------------------------------------------------\n",
       "Intercept      0.8243      0.002    342.078      0.000       0.820       0.829\n",
       "message        0.0903      0.003     30.198      0.000       0.084       0.096\n",
       "==============================================================================\n",
       "Omnibus:                    18923.394   Durbin-Watson:                   2.007\n",
       "Prob(Omnibus):                  0.000   Jarque-Bera (JB):            52775.181\n",
       "Skew:                          -2.131   Prob(JB):                         0.00\n",
       "Kurtosis:                       5.696   Cond. No.                         2.62\n",
       "==============================================================================\n",
       "\n",
       "Notes:\n",
       "[1] Standard Errors are heteroscedasticity robust (HC1)\n",
       "\"\"\""
      ]
     },
     "execution_count": 10,
     "metadata": {},
     "output_type": "execute_result"
    }
   ],
   "source": [
    "# Using robust standard errors in the statsmodels module, regress variable binge on variable message\n",
    "reg3 = smf.ols(formula='binge ~ message', data=data_coursera).fit()\n",
    "robust_reg2_2a = reg3.get_robustcov_results(cov_type='HC1')\n",
    "robust_reg2_2a.summary()"
   ]
  },
  {
   "cell_type": "markdown",
   "id": "6460eb0f",
   "metadata": {},
   "source": [
    "**First Stage Analysis**: The first stage regression shows that receiving a message significantly increases the likelihood of bingeing. This strong relationship between the instrument (message) and the endogenous variable (binge) indicates a strong first stage.\n",
    "\n",
    "### Intention-to-Treat (ITT) Effect\n",
    "\n",
    "Next, we calculate the ITT effect by running the reduced form regression."
   ]
  },
  {
   "cell_type": "code",
   "execution_count": 11,
   "id": "9ffb67a1",
   "metadata": {},
   "outputs": [
    {
     "data": {
      "text/plain": [
       "0.0113"
      ]
     },
     "execution_count": 11,
     "metadata": {},
     "output_type": "execute_result"
    }
   ],
   "source": [
    "# Calculate the \"intention-to-treat\" (ITT) effect by running the reduced form regression\n",
    "reg4 = smf.ols(formula='complete ~ message', data=data_coursera).fit()\n",
    "l_change2_3 = round(reg4.params['message'], 4)\n",
    "l_change2_3"
   ]
  },
  {
   "cell_type": "code",
   "execution_count": 12,
   "id": "e9023c5e",
   "metadata": {},
   "outputs": [
    {
     "data": {
      "text/plain": [
       "0.0113"
      ]
     },
     "execution_count": 12,
     "metadata": {},
     "output_type": "execute_result"
    }
   ],
   "source": [
    "# Calculate the \"intention-to-treat\" (ITT) effect by running the reduced form regression\n",
    "reg4 = smf.ols(formula='complete ~ message', data=data_coursera).fit()\n",
    "l_change2_3 = round(reg4.params['message'], 4)\n",
    "l_change2_3"
   ]
  },
  {
   "cell_type": "markdown",
   "id": "bb3edbcc",
   "metadata": {},
   "source": [
    "**ITT Effect**: The ITT effect shows that receiving a message increases the likelihood of completing the next week by approximately 1.13 percentage points.\n",
    "\n",
    "### Omitted Variable Bias (OVB) and Monotonicity\n",
    "\n",
    "The ITT doesn’t take into account that some users may not comply with the treatment assignment. With heterogeneous treatment effects, we assume monotonicity, meaning there are “no defiers” in the population."
   ]
  },
  {
   "cell_type": "code",
   "execution_count": 14,
   "id": "01d52ec2",
   "metadata": {},
   "outputs": [
    {
     "data": {
      "text/plain": [
       "0.8243"
      ]
     },
     "execution_count": 14,
     "metadata": {},
     "output_type": "execute_result"
    }
   ],
   "source": [
    "# Calculate the share of \"always-takers\"\n",
    "at_share2_5 = round(((data_coursera[\"message\"] == 0) & (data_coursera[\"binge\"] == 1)).sum() / (data_coursera[\"message\"] == 0).sum(), 4)\n",
    "at_share2_5"
   ]
  },
  {
   "cell_type": "code",
   "execution_count": 15,
   "id": "999720d8",
   "metadata": {},
   "outputs": [
    {
     "data": {
      "text/plain": [
       "0.0854"
      ]
     },
     "execution_count": 15,
     "metadata": {},
     "output_type": "execute_result"
    }
   ],
   "source": [
    "# Calculate the share of \"never-takers\"\n",
    "nt_share2_6 = round(((data_coursera[\"message\"] == 1) & (data_coursera[\"binge\"] == 0)).sum() / (data_coursera[\"message\"] == 1).sum(), 4)\n",
    "nt_share2_6"
   ]
  },
  {
   "cell_type": "code",
   "execution_count": 28,
   "id": "7fec53c4",
   "metadata": {},
   "outputs": [
    {
     "data": {
      "text/plain": [
       "0.1251"
      ]
     },
     "execution_count": 28,
     "metadata": {},
     "output_type": "execute_result"
    }
   ],
   "source": [
    "# Calculate the IV estimate manually\n",
    "first_stage_coeff = round(robust_reg2_2a.params[1], 4)\n",
    "iv_estimate = round(l_change2_3 / first_stage_coeff, 4)\n",
    "iv_estimate"
   ]
  },
  {
   "cell_type": "code",
   "execution_count": 30,
   "id": "87041f44",
   "metadata": {},
   "outputs": [],
   "source": [
    "# Run a two-stage least squares regression using the IV2SLS module from the linearmodels library\n",
    "\n",
    "data_coursera =data_coursera.dropna()\n",
    "data_coursera[\"const\"]=1\n",
    "iv2sls2_8 =  IV2SLS(dependent = data_coursera[\"complete\"],\n",
    "             exog = data_coursera[\"const\"] ,\n",
    "            endog= data_coursera['binge'],\n",
    "             instruments = data_coursera['message']\n",
    "             ).fit(cov_type = 'robust')"
   ]
  },
  {
   "cell_type": "code",
   "execution_count": 31,
   "id": "50701447",
   "metadata": {},
   "outputs": [
    {
     "name": "stdout",
     "output_type": "stream",
     "text": [
      "                          IV-2SLS Estimation Summary                          \n",
      "==============================================================================\n",
      "Dep. Variable:               complete   R-squared:                      0.1213\n",
      "Estimator:                    IV-2SLS   Adj. R-squared:                 0.1213\n",
      "No. Observations:               49808   F-statistic:                    19.395\n",
      "Date:                Wed, Jul 24 2024   P-value (F-stat)                0.0000\n",
      "Time:                        16:25:31   Distribution:                  chi2(1)\n",
      "Cov. Estimator:                robust                                         \n",
      "                                                                              \n",
      "                             Parameter Estimates                              \n",
      "==============================================================================\n",
      "            Parameter  Std. Err.     T-stat    P-value    Lower CI    Upper CI\n",
      "------------------------------------------------------------------------------\n",
      "const          0.7862     0.0248     31.690     0.0000      0.7376      0.8348\n",
      "binge          0.1254     0.0285     4.4040     0.0000      0.0696      0.1812\n",
      "==============================================================================\n",
      "\n",
      "Endogenous: binge\n",
      "Instruments: message\n",
      "Robust Covariance (Heteroskedastic)\n",
      "Debiased: False\n"
     ]
    }
   ],
   "source": [
    "print(iv2sls2_8.summary)"
   ]
  },
  {
   "cell_type": "markdown",
   "id": "24c9351e",
   "metadata": {},
   "source": [
    "### Conclusion\n",
    "\n",
    "Our analysis demonstrates that receiving a message encouraging learners to start the next week's material immediately after completing the current week significantly increases the likelihood of bingeing, which in turn significantly increases the likelihood of completing the following week. The instrumental variable (IV) estimate, calculated using two-stage least squares (2SLS), provides a measure of the causal effect of bingeing on course completion.\n",
    "\n",
    "### References\n",
    "\n",
    "- [\"Instrumental Variables & Randomized Encouragement Trials: Driving Engagement of Learners\"](assets/MediumArticle.pdf)"
   ]
  },
  {
   "cell_type": "code",
   "execution_count": null,
   "id": "f7b2dc33",
   "metadata": {},
   "outputs": [],
   "source": []
  }
 ],
 "metadata": {
  "kernelspec": {
   "display_name": "MADS2",
   "language": "python",
   "name": "mads"
  },
  "language_info": {
   "codemirror_mode": {
    "name": "ipython",
    "version": 3
   },
   "file_extension": ".py",
   "mimetype": "text/x-python",
   "name": "python",
   "nbconvert_exporter": "python",
   "pygments_lexer": "ipython3",
   "version": "3.8.13"
  }
 },
 "nbformat": 4,
 "nbformat_minor": 5
}
