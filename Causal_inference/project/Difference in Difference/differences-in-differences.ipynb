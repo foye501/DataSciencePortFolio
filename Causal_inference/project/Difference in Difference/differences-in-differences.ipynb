{
 "cells": [
  {
   "cell_type": "markdown",
   "id": "ef553b8d",
   "metadata": {},
   "source": [
    "##  Impact of Cigarette Tax Hike on Smoking Rates\n",
    "\n",
    "### Background\n",
    "\n",
    "Public health officials have suggested that higher cigarette taxes can decrease smoking rates among pregnant women. On May 1, 1994, Michigan raised the cigarette tax from 25 to 75 cents per pack.\n",
    "\n",
    "### Data\n",
    "\n",
    "The dataset `lecture4_DD.csv` contains data on:\n",
    "- **state**: 2-digit state FIPS code (Michigan = 26, Iowa = 19)\n",
    "- **smoked**: Dummy variable (1 if the mother smoked during pregnancy, 0 otherwise)\n",
    "- **year**: Time period (1 = May 1, 1992 - April 30, 1993, 2 = May 1, 1993 - April 30, 1994, 3 = May 1, 1994 - April 30, 1995)\n",
    "\n",
    "### Methodology\n",
    "\n",
    "We use the differences-in-differences technique, with Michigan as the treatment group and Iowa as the control group, to evaluate the impact of the tax hike on smoking rates."
   ]
  },
  {
   "cell_type": "code",
   "execution_count": 2,
   "id": "a4aff772",
   "metadata": {},
   "outputs": [],
   "source": [
    "# Import necessary libraries\n",
    "import pandas as pd\n",
    "import numpy as np\n",
    "import statsmodels.api as sm\n",
    "import statsmodels.formula.api as smf\n",
    "from matplotlib import pyplot as plt\n"
   ]
  },
  {
   "cell_type": "code",
   "execution_count": 3,
   "id": "36bce68c",
   "metadata": {},
   "outputs": [
    {
     "data": {
      "text/html": [
       "<div>\n",
       "<style scoped>\n",
       "    .dataframe tbody tr th:only-of-type {\n",
       "        vertical-align: middle;\n",
       "    }\n",
       "\n",
       "    .dataframe tbody tr th {\n",
       "        vertical-align: top;\n",
       "    }\n",
       "\n",
       "    .dataframe thead th {\n",
       "        text-align: right;\n",
       "    }\n",
       "</style>\n",
       "<table border=\"1\" class=\"dataframe\">\n",
       "  <thead>\n",
       "    <tr style=\"text-align: right;\">\n",
       "      <th></th>\n",
       "      <th>state</th>\n",
       "      <th>smoked</th>\n",
       "      <th>year</th>\n",
       "    </tr>\n",
       "  </thead>\n",
       "  <tbody>\n",
       "    <tr>\n",
       "      <th>0</th>\n",
       "      <td>19</td>\n",
       "      <td>0</td>\n",
       "      <td>1</td>\n",
       "    </tr>\n",
       "    <tr>\n",
       "      <th>1</th>\n",
       "      <td>19</td>\n",
       "      <td>0</td>\n",
       "      <td>1</td>\n",
       "    </tr>\n",
       "    <tr>\n",
       "      <th>2</th>\n",
       "      <td>19</td>\n",
       "      <td>0</td>\n",
       "      <td>1</td>\n",
       "    </tr>\n",
       "    <tr>\n",
       "      <th>3</th>\n",
       "      <td>19</td>\n",
       "      <td>0</td>\n",
       "      <td>1</td>\n",
       "    </tr>\n",
       "    <tr>\n",
       "      <th>4</th>\n",
       "      <td>19</td>\n",
       "      <td>0</td>\n",
       "      <td>1</td>\n",
       "    </tr>\n",
       "  </tbody>\n",
       "</table>\n",
       "</div>"
      ],
      "text/plain": [
       "   state  smoked  year\n",
       "0     19       0     1\n",
       "1     19       0     1\n",
       "2     19       0     1\n",
       "3     19       0     1\n",
       "4     19       0     1"
      ]
     },
     "execution_count": 3,
     "metadata": {},
     "output_type": "execute_result"
    }
   ],
   "source": [
    "# Load the dataset\n",
    "data_dd = pd.read_csv('assets/lecture4_DD.csv')\n",
    "\n",
    "# Display the first few rows of the dataset\n",
    "data_dd.head()"
   ]
  },
  {
   "cell_type": "code",
   "execution_count": 4,
   "id": "621ecc48",
   "metadata": {},
   "outputs": [
    {
     "data": {
      "image/png": "[encoded data removed]",
      "text/plain": [
       "<Figure size 640x480 with 1 Axes>"
      ]
     },
     "metadata": {},
     "output_type": "display_data"
    }
   ],
   "source": [
    "# Calculate smoking rates by state and year\n",
    "smoke_rate = data_dd.groupby(['state', 'year']).mean().reset_index()\n",
    "\n",
    "# Plot pre-treatment smoking rates for Michigan and Iowa\n",
    "mi = smoke_rate[(smoke_rate['state'] == 26)]\n",
    "ia = smoke_rate[(smoke_rate['state'] == 19)]\n",
    "\n",
    "plt.scatter(mi['year'], mi['smoked'], color='red', label='Michigan')\n",
    "plt.plot(mi['year'], mi['smoked'], color='red')\n",
    "plt.scatter(ia['year'], ia['smoked'], color='blue', label='Iowa')\n",
    "plt.plot(ia['year'], ia['smoked'], color='blue')\n",
    "plt.xlabel('Year')\n",
    "plt.ylabel('Smoking Rate')\n",
    "plt.legend()\n",
    "plt.yticks(np.arange(0, 0.41, step=0.2))\n",
    "plt.xticks(range(1, 4))\n",
    "plt.title('Smoking Rates in Michigan and Iowa (Pre-treatment)')\n",
    "plt.show()"
   ]
  },
  {
   "cell_type": "markdown",
   "id": "0e5052b8",
   "metadata": {},
   "source": [
    "### Visual Inspection\n",
    "\n",
    "Based on the graph, the parallel trends assumption is slightly violated as the smoking rates in Michigan decrease more than in Iowa before the treatment. Therefore, differences-in-differences may not be the most reasonable approach to estimate the causal effect in this setting.\n",
    "\n",
    "### Differences-in-Differences Table\n",
    "\n",
    "To calculate the differences-in-differences estimate, we first add binary variables for treatment and post-treatment periods."
   ]
  },
  {
   "cell_type": "code",
   "execution_count": 6,
   "id": "b9a254b4",
   "metadata": {},
   "outputs": [
    {
     "data": {
      "text/html": [
       "<div>\n",
       "<style scoped>\n",
       "    .dataframe tbody tr th:only-of-type {\n",
       "        vertical-align: middle;\n",
       "    }\n",
       "\n",
       "    .dataframe tbody tr th {\n",
       "        vertical-align: top;\n",
       "    }\n",
       "\n",
       "    .dataframe thead th {\n",
       "        text-align: right;\n",
       "    }\n",
       "</style>\n",
       "<table border=\"1\" class=\"dataframe\">\n",
       "  <thead>\n",
       "    <tr style=\"text-align: right;\">\n",
       "      <th></th>\n",
       "      <th>state</th>\n",
       "      <th>smoked</th>\n",
       "      <th>year</th>\n",
       "      <th>treat</th>\n",
       "      <th>post</th>\n",
       "    </tr>\n",
       "  </thead>\n",
       "  <tbody>\n",
       "    <tr>\n",
       "      <th>0</th>\n",
       "      <td>19</td>\n",
       "      <td>0</td>\n",
       "      <td>1</td>\n",
       "      <td>0</td>\n",
       "      <td>0</td>\n",
       "    </tr>\n",
       "    <tr>\n",
       "      <th>1</th>\n",
       "      <td>19</td>\n",
       "      <td>0</td>\n",
       "      <td>1</td>\n",
       "      <td>0</td>\n",
       "      <td>0</td>\n",
       "    </tr>\n",
       "    <tr>\n",
       "      <th>2</th>\n",
       "      <td>19</td>\n",
       "      <td>0</td>\n",
       "      <td>1</td>\n",
       "      <td>0</td>\n",
       "      <td>0</td>\n",
       "    </tr>\n",
       "    <tr>\n",
       "      <th>3</th>\n",
       "      <td>19</td>\n",
       "      <td>0</td>\n",
       "      <td>1</td>\n",
       "      <td>0</td>\n",
       "      <td>0</td>\n",
       "    </tr>\n",
       "    <tr>\n",
       "      <th>4</th>\n",
       "      <td>19</td>\n",
       "      <td>0</td>\n",
       "      <td>1</td>\n",
       "      <td>0</td>\n",
       "      <td>0</td>\n",
       "    </tr>\n",
       "  </tbody>\n",
       "</table>\n",
       "</div>"
      ],
      "text/plain": [
       "   state  smoked  year  treat  post\n",
       "0     19       0     1      0     0\n",
       "1     19       0     1      0     0\n",
       "2     19       0     1      0     0\n",
       "3     19       0     1      0     0\n",
       "4     19       0     1      0     0"
      ]
     },
     "execution_count": 6,
     "metadata": {},
     "output_type": "execute_result"
    }
   ],
   "source": [
    "# Add binary variables for treatment and post-treatment periods\n",
    "data_dd['treat'] = np.where(data_dd['state'] == 26, 1, 0)\n",
    "data_dd['post'] = np.where(data_dd['year'] == 3, 1, 0)\n",
    "\n",
    "# Display the first few rows of the updated dataset\n",
    "data_dd.head()"
   ]
  },
  {
   "cell_type": "code",
   "execution_count": 7,
   "id": "50db1653",
   "metadata": {},
   "outputs": [
    {
     "data": {
      "text/plain": [
       "(0.1923, 0.1396, -0.0527, 0.1856, 0.1639, -0.0217, 0.0067, -0.0243, -0.031)"
      ]
     },
     "execution_count": 7,
     "metadata": {},
     "output_type": "execute_result"
    }
   ],
   "source": [
    "# Calculate the corresponding means of the variable smoked\n",
    "treat_post = data_dd.groupby(['post', 'treat'])['smoked'].mean().reset_index()\n",
    "\n",
    "cell_i = round(treat_post.iloc[1, -1], 4)\n",
    "cell_ii = round(treat_post.iloc[3, -1], 4)\n",
    "cell_iii = round(cell_ii - cell_i, 4)\n",
    "cell_iv = round(treat_post.iloc[0, -1], 4)\n",
    "cell_v = round(treat_post.iloc[2, -1], 4)\n",
    "cell_vi = round(cell_v - cell_iv, 4)\n",
    "cell_vii = round(cell_i - cell_iv, 4)\n",
    "cell_viii = round(cell_ii - cell_v, 4)\n",
    "cell_ix = round(cell_iii - cell_vi, 4)\n",
    "\n",
    "cell_i, cell_ii, cell_iii, cell_iv, cell_v, cell_vi, cell_vii, cell_viii, cell_ix"
   ]
  },
  {
   "cell_type": "markdown",
   "id": "e6fbafff",
   "metadata": {},
   "source": [
    "### Regression Analysis\n",
    "\n",
    "We will now estimate differences-in-differences through regression."
   ]
  },
  {
   "cell_type": "code",
   "execution_count": 12,
   "id": "f85f25e0",
   "metadata": {},
   "outputs": [],
   "source": [
    "# Regress smoked on treat, post\n",
    "#, and their interaction using robust standard errors\n",
    "reg_cluster_se = smf.ols(formula='smoked ~ treat + post + treat*post', data=data_dd).fit()"
   ]
  },
  {
   "cell_type": "code",
   "execution_count": 14,
   "id": "7619e6d8",
   "metadata": {},
   "outputs": [
    {
     "data": {
      "text/html": [
       "<table class=\"simpletable\">\n",
       "<caption>OLS Regression Results</caption>\n",
       "<tr>\n",
       "  <th>Dep. Variable:</th>         <td>smoked</td>      <th>  R-squared:         </th> <td>   0.003</td> \n",
       "</tr>\n",
       "<tr>\n",
       "  <th>Model:</th>                   <td>OLS</td>       <th>  Adj. R-squared:    </th> <td>   0.003</td> \n",
       "</tr>\n",
       "<tr>\n",
       "  <th>Method:</th>             <td>Least Squares</td>  <th>  F-statistic:       </th> <td>   117.9</td> \n",
       "</tr>\n",
       "<tr>\n",
       "  <th>Date:</th>             <td>Wed, 24 Jul 2024</td> <th>  Prob (F-statistic):</th> <td>3.00e-76</td> \n",
       "</tr>\n",
       "<tr>\n",
       "  <th>Time:</th>                 <td>19:31:44</td>     <th>  Log-Likelihood:    </th> <td> -45883.</td> \n",
       "</tr>\n",
       "<tr>\n",
       "  <th>No. Observations:</th>      <td>101676</td>      <th>  AIC:               </th> <td>9.177e+04</td>\n",
       "</tr>\n",
       "<tr>\n",
       "  <th>Df Residuals:</th>          <td>101672</td>      <th>  BIC:               </th> <td>9.181e+04</td>\n",
       "</tr>\n",
       "<tr>\n",
       "  <th>Df Model:</th>              <td>     3</td>      <th>                     </th>     <td> </td>    \n",
       "</tr>\n",
       "<tr>\n",
       "  <th>Covariance Type:</th>      <td>nonrobust</td>    <th>                     </th>     <td> </td>    \n",
       "</tr>\n",
       "</table>\n",
       "<table class=\"simpletable\">\n",
       "<tr>\n",
       "       <td></td>         <th>coef</th>     <th>std err</th>      <th>t</th>      <th>P>|t|</th>  <th>[0.025</th>    <th>0.975]</th>  \n",
       "</tr>\n",
       "<tr>\n",
       "  <th>Intercept</th>  <td>    0.1856</td> <td>    0.003</td> <td>   60.121</td> <td> 0.000</td> <td>    0.180</td> <td>    0.192</td>\n",
       "</tr>\n",
       "<tr>\n",
       "  <th>treat</th>      <td>    0.0067</td> <td>    0.003</td> <td>    1.916</td> <td> 0.055</td> <td>   -0.000</td> <td>    0.014</td>\n",
       "</tr>\n",
       "<tr>\n",
       "  <th>post</th>       <td>   -0.0217</td> <td>    0.005</td> <td>   -4.010</td> <td> 0.000</td> <td>   -0.032</td> <td>   -0.011</td>\n",
       "</tr>\n",
       "<tr>\n",
       "  <th>treat:post</th> <td>   -0.0310</td> <td>    0.006</td> <td>   -5.062</td> <td> 0.000</td> <td>   -0.043</td> <td>   -0.019</td>\n",
       "</tr>\n",
       "</table>\n",
       "<table class=\"simpletable\">\n",
       "<tr>\n",
       "  <th>Omnibus:</th>       <td>26320.260</td> <th>  Durbin-Watson:     </th> <td>   0.001</td> \n",
       "</tr>\n",
       "<tr>\n",
       "  <th>Prob(Omnibus):</th>  <td> 0.000</td>   <th>  Jarque-Bera (JB):  </th> <td>52036.891</td>\n",
       "</tr>\n",
       "<tr>\n",
       "  <th>Skew:</th>           <td> 1.694</td>   <th>  Prob(JB):          </th> <td>    0.00</td> \n",
       "</tr>\n",
       "<tr>\n",
       "  <th>Kurtosis:</th>       <td> 3.894</td>   <th>  Cond. No.          </th> <td>    9.77</td> \n",
       "</tr>\n",
       "</table><br/><br/>Notes:<br/>[1] Standard Errors assume that the covariance matrix of the errors is correctly specified."
      ],
      "text/latex": [
       "\\begin{center}\n",
       "\\begin{tabular}{lclc}\n",
       "\\toprule\n",
       "\\textbf{Dep. Variable:}    &      smoked      & \\textbf{  R-squared:         } &     0.003   \\\\\n",
       "\\textbf{Model:}            &       OLS        & \\textbf{  Adj. R-squared:    } &     0.003   \\\\\n",
       "\\textbf{Method:}           &  Least Squares   & \\textbf{  F-statistic:       } &     117.9   \\\\\n",
       "\\textbf{Date:}             & Wed, 24 Jul 2024 & \\textbf{  Prob (F-statistic):} &  3.00e-76   \\\\\n",
       "\\textbf{Time:}             &     19:31:44     & \\textbf{  Log-Likelihood:    } &   -45883.   \\\\\n",
       "\\textbf{No. Observations:} &      101676      & \\textbf{  AIC:               } & 9.177e+04   \\\\\n",
       "\\textbf{Df Residuals:}     &      101672      & \\textbf{  BIC:               } & 9.181e+04   \\\\\n",
       "\\textbf{Df Model:}         &           3      & \\textbf{                     } &             \\\\\n",
       "\\textbf{Covariance Type:}  &    nonrobust     & \\textbf{                     } &             \\\\\n",
       "\\bottomrule\n",
       "\\end{tabular}\n",
       "\\begin{tabular}{lcccccc}\n",
       "                    & \\textbf{coef} & \\textbf{std err} & \\textbf{t} & \\textbf{P$> |$t$|$} & \\textbf{[0.025} & \\textbf{0.975]}  \\\\\n",
       "\\midrule\n",
       "\\textbf{Intercept}  &       0.1856  &        0.003     &    60.121  &         0.000        &        0.180    &        0.192     \\\\\n",
       "\\textbf{treat}      &       0.0067  &        0.003     &     1.916  &         0.055        &       -0.000    &        0.014     \\\\\n",
       "\\textbf{post}       &      -0.0217  &        0.005     &    -4.010  &         0.000        &       -0.032    &       -0.011     \\\\\n",
       "\\textbf{treat:post} &      -0.0310  &        0.006     &    -5.062  &         0.000        &       -0.043    &       -0.019     \\\\\n",
       "\\bottomrule\n",
       "\\end{tabular}\n",
       "\\begin{tabular}{lclc}\n",
       "\\textbf{Omnibus:}       & 26320.260 & \\textbf{  Durbin-Watson:     } &     0.001  \\\\\n",
       "\\textbf{Prob(Omnibus):} &    0.000  & \\textbf{  Jarque-Bera (JB):  } & 52036.891  \\\\\n",
       "\\textbf{Skew:}          &    1.694  & \\textbf{  Prob(JB):          } &      0.00  \\\\\n",
       "\\textbf{Kurtosis:}      &    3.894  & \\textbf{  Cond. No.          } &      9.77  \\\\\n",
       "\\bottomrule\n",
       "\\end{tabular}\n",
       "%\\caption{OLS Regression Results}\n",
       "\\end{center}\n",
       "\n",
       "Notes: \\newline\n",
       " [1] Standard Errors assume that the covariance matrix of the errors is correctly specified."
      ],
      "text/plain": [
       "<class 'statsmodels.iolib.summary.Summary'>\n",
       "\"\"\"\n",
       "                            OLS Regression Results                            \n",
       "==============================================================================\n",
       "Dep. Variable:                 smoked   R-squared:                       0.003\n",
       "Model:                            OLS   Adj. R-squared:                  0.003\n",
       "Method:                 Least Squares   F-statistic:                     117.9\n",
       "Date:                Wed, 24 Jul 2024   Prob (F-statistic):           3.00e-76\n",
       "Time:                        19:31:44   Log-Likelihood:                -45883.\n",
       "No. Observations:              101676   AIC:                         9.177e+04\n",
       "Df Residuals:                  101672   BIC:                         9.181e+04\n",
       "Df Model:                           3                                         \n",
       "Covariance Type:            nonrobust                                         \n",
       "==============================================================================\n",
       "                 coef    std err          t      P>|t|      [0.025      0.975]\n",
       "------------------------------------------------------------------------------\n",
       "Intercept      0.1856      0.003     60.121      0.000       0.180       0.192\n",
       "treat          0.0067      0.003      1.916      0.055      -0.000       0.014\n",
       "post          -0.0217      0.005     -4.010      0.000      -0.032      -0.011\n",
       "treat:post    -0.0310      0.006     -5.062      0.000      -0.043      -0.019\n",
       "==============================================================================\n",
       "Omnibus:                    26320.260   Durbin-Watson:                   0.001\n",
       "Prob(Omnibus):                  0.000   Jarque-Bera (JB):            52036.891\n",
       "Skew:                           1.694   Prob(JB):                         0.00\n",
       "Kurtosis:                       3.894   Cond. No.                         9.77\n",
       "==============================================================================\n",
       "\n",
       "Notes:\n",
       "[1] Standard Errors assume that the covariance matrix of the errors is correctly specified.\n",
       "\"\"\""
      ]
     },
     "execution_count": 14,
     "metadata": {},
     "output_type": "execute_result"
    }
   ],
   "source": [
    "reg_cluster_se.summary()"
   ]
  },
  {
   "cell_type": "code",
   "execution_count": 15,
   "id": "7d4cb413",
   "metadata": {},
   "outputs": [
    {
     "data": {
      "text/plain": [
       "-0.031"
      ]
     },
     "execution_count": 15,
     "metadata": {},
     "output_type": "execute_result"
    }
   ],
   "source": [
    "interact_coeff2_3 = round(reg_cluster_se.params[3], 4)\n",
    "interact_coeff2_3"
   ]
  },
  {
   "cell_type": "markdown",
   "id": "dfa4e7a7",
   "metadata": {},
   "source": [
    "## Conclusion\n",
    "\n",
    "\n",
    "\n",
    "### Cigarette Tax Hike Impact\n",
    "\n",
    "The differences-in-differences analysis suggests that the cigarette tax hike in Michigan may have reduced smoking rates among pregnant women. However, the slightly violated parallel trends assumption calls for cautious interpretation of the results.\n",
    "\n"
   ]
  },
  {
   "cell_type": "code",
   "execution_count": null,
   "id": "d2ba3754",
   "metadata": {},
   "outputs": [],
   "source": []
  }
 ],
 "metadata": {
  "kernelspec": {
   "display_name": "MADS2",
   "language": "python",
   "name": "mads"
  },
  "language_info": {
   "codemirror_mode": {
    "name": "ipython",
    "version": 3
   },
   "file_extension": ".py",
   "mimetype": "text/x-python",
   "name": "python",
   "nbconvert_exporter": "python",
   "pygments_lexer": "ipython3",
   "version": "3.8.13"
  }
 },
 "nbformat": 4,
 "nbformat_minor": 5
}
