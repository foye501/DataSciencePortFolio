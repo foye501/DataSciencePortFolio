{
 "cells": [
  {
   "cell_type": "markdown",
   "id": "1b51f1fa",
   "metadata": {},
   "source": [
    "# Investigating the Effect of Nike Vaporfly Shoes on Marathon Performance\n",
    "\n",
    "## Introduction\n",
    "\n",
    "Nike claims that its $250 running shoes, the Vaporfly, will make you run much faster. This project aims to explore the accuracy of this claim using data from marathon runners. Specifically, we will investigate whether runners using Vaporfly shoes run significantly faster than those who do not, using methods such as nearest neighbor matching, propensity score matching, and controlled regression.\n",
    "\n",
    "## Data Description\n",
    "\n",
    "We use the dataset `lecture2_match_reg.csv`, which contains information on 24,699 runners who qualified for and ran the same marathon. The dataset includes the following variables:\n",
    "- **age**: Age of the runner (min: 18, max: 55)\n",
    "- **male**: Gender (0 = Female, 1 = Male)\n",
    "- **marathoner_type**: Experience level (\"seasoned\", \"enthusiastic\", \"first_timer\")\n",
    "- **vaporfly**: 1 if the runner wore Nike Vaporfly shoes, 0 otherwise\n",
    "- **race_time**: Marathon completion time in seconds\n",
    "\n",
    "## Methodology\n",
    "\n",
    "To evaluate Nike's claim, we transformed the race time into its natural logarithm to interpret the results as percentage changes. We used various statistical methods to estimate the average treatment effect (ATE) of wearing Vaporfly shoes, including:\n",
    "1. **Nearest Neighbor Matching** on the variable `age`\n",
    "2. **Propensity Score Matching** using variables `age`, `male`, `seasoned`, and `enthusiastic`\n",
    "3. **Controlled Regression** with robust standard errors\n",
    "\n",
    "## Analysis and Results"
   ]
  },
  {
   "cell_type": "code",
   "execution_count": 2,
   "id": "57567925",
   "metadata": {},
   "outputs": [
    {
     "data": {
      "text/html": [
       "<div>\n",
       "<style scoped>\n",
       "    .dataframe tbody tr th:only-of-type {\n",
       "        vertical-align: middle;\n",
       "    }\n",
       "\n",
       "    .dataframe tbody tr th {\n",
       "        vertical-align: top;\n",
       "    }\n",
       "\n",
       "    .dataframe thead th {\n",
       "        text-align: right;\n",
       "    }\n",
       "</style>\n",
       "<table border=\"1\" class=\"dataframe\">\n",
       "  <thead>\n",
       "    <tr style=\"text-align: right;\">\n",
       "      <th></th>\n",
       "      <th>age</th>\n",
       "      <th>marathoner_type</th>\n",
       "      <th>vaporfly</th>\n",
       "      <th>race_time</th>\n",
       "      <th>male</th>\n",
       "      <th>ln_race_time</th>\n",
       "    </tr>\n",
       "  </thead>\n",
       "  <tbody>\n",
       "    <tr>\n",
       "      <th>0</th>\n",
       "      <td>41</td>\n",
       "      <td>enthusiastic</td>\n",
       "      <td>1</td>\n",
       "      <td>11755.176</td>\n",
       "      <td>1</td>\n",
       "      <td>9.372049</td>\n",
       "    </tr>\n",
       "    <tr>\n",
       "      <th>1</th>\n",
       "      <td>42</td>\n",
       "      <td>enthusiastic</td>\n",
       "      <td>1</td>\n",
       "      <td>14980.950</td>\n",
       "      <td>0</td>\n",
       "      <td>9.614535</td>\n",
       "    </tr>\n",
       "    <tr>\n",
       "      <th>2</th>\n",
       "      <td>39</td>\n",
       "      <td>enthusiastic</td>\n",
       "      <td>0</td>\n",
       "      <td>12342.542</td>\n",
       "      <td>1</td>\n",
       "      <td>9.420807</td>\n",
       "    </tr>\n",
       "    <tr>\n",
       "      <th>3</th>\n",
       "      <td>29</td>\n",
       "      <td>enthusiastic</td>\n",
       "      <td>0</td>\n",
       "      <td>13142.107</td>\n",
       "      <td>1</td>\n",
       "      <td>9.483577</td>\n",
       "    </tr>\n",
       "    <tr>\n",
       "      <th>4</th>\n",
       "      <td>34</td>\n",
       "      <td>enthusiastic</td>\n",
       "      <td>1</td>\n",
       "      <td>13255.874</td>\n",
       "      <td>0</td>\n",
       "      <td>9.492196</td>\n",
       "    </tr>\n",
       "  </tbody>\n",
       "</table>\n",
       "</div>"
      ],
      "text/plain": [
       "   age marathoner_type  vaporfly  race_time  male  ln_race_time\n",
       "0   41    enthusiastic         1  11755.176     1      9.372049\n",
       "1   42    enthusiastic         1  14980.950     0      9.614535\n",
       "2   39    enthusiastic         0  12342.542     1      9.420807\n",
       "3   29    enthusiastic         0  13142.107     1      9.483577\n",
       "4   34    enthusiastic         1  13255.874     0      9.492196"
      ]
     },
     "execution_count": 2,
     "metadata": {},
     "output_type": "execute_result"
    }
   ],
   "source": [
    "# Import necessary libraries\n",
    "import pandas as pd\n",
    "import numpy as np\n",
    "from causalinference import CausalModel\n",
    "import statsmodels.api as sm\n",
    "import statsmodels.formula.api as smf\n",
    "\n",
    "# Load the dataset\n",
    "data_marathon = pd.read_csv('assets/lecture2_match_reg.csv')\n",
    "\n",
    "# Transform race_time to its natural logarithm\n",
    "data_marathon[\"ln_race_time\"] = np.log(data_marathon[\"race_time\"])\n",
    "\n",
    "# Display the first few rows to verify the transformation\n",
    "data_marathon.head()"
   ]
  },
  {
   "cell_type": "code",
   "execution_count": 3,
   "id": "e63d3219",
   "metadata": {},
   "outputs": [
    {
     "data": {
      "text/plain": [
       "-0.064"
      ]
     },
     "execution_count": 3,
     "metadata": {},
     "output_type": "execute_result"
    }
   ],
   "source": [
    "# Calculate the mean difference in ln_race_time\n",
    "vap_mean = data_marathon[\"ln_race_time\"][data_marathon[\"vaporfly\"] == 1].mean()\n",
    "no_vap_mean = data_marathon[\"ln_race_time\"][data_marathon[\"vaporfly\"] == 0].mean()\n",
    "mean_diff1_2 = round(vap_mean - no_vap_mean, 4)\n",
    "mean_diff1_2"
   ]
  },
  {
   "cell_type": "code",
   "execution_count": 4,
   "id": "ab82a009",
   "metadata": {},
   "outputs": [
    {
     "data": {
      "text/plain": [
       "-0.0372"
      ]
     },
     "execution_count": 4,
     "metadata": {},
     "output_type": "execute_result"
    }
   ],
   "source": [
    "# Sample a subset for computational efficiency\n",
    "data_sample1_3 = data_marathon.sample(n=2000, random_state=123)\n",
    "\n",
    "# Create the causal model\n",
    "model_c = CausalModel(Y=np.array(data_sample1_3[\"ln_race_time\"]),\n",
    "                      D=np.array(data_sample1_3[\"vaporfly\"]),\n",
    "                      X=np.array(data_sample1_3[\"age\"]))\n",
    "\n",
    "# Estimate ATE via matching\n",
    "model_c.est_via_matching()\n",
    "ate1_3 = round(model_c.estimates[\"matching\"][\"ate\"], 4)\n",
    "ate1_3"
   ]
  },
  {
   "cell_type": "code",
   "execution_count": 6,
   "id": "53f6e2b5",
   "metadata": {},
   "outputs": [],
   "source": [
    "# Create binary variables for seasoned and enthusiastic\n",
    "data_marathon[\"seasoned\"] = np.where(data_marathon[\"marathoner_type\"] == \"seasoned\", 1, 0)\n",
    "data_marathon[\"enthusiastic\"] = np.where(data_marathon[\"marathoner_type\"] == \"enthusiastic\", 1, 0)"
   ]
  },
  {
   "cell_type": "code",
   "execution_count": 7,
   "id": "873fa5e2",
   "metadata": {},
   "outputs": [
    {
     "data": {
      "text/plain": [
       "-0.0374"
      ]
     },
     "execution_count": 7,
     "metadata": {},
     "output_type": "execute_result"
    }
   ],
   "source": [
    "# Sample a subset for computational efficiency\n",
    "data_sample1_4b = data_marathon.sample(n=2000, random_state=123)\n",
    "\n",
    "# Create the causal model with additional covariates\n",
    "model_c_4 = CausalModel(Y=np.array(data_sample1_4b[\"ln_race_time\"]),\n",
    "                        D=np.array(data_sample1_4b[\"vaporfly\"]),\n",
    "                        X=np.array(data_sample1_4b[[\"age\", \"male\", \"seasoned\", \"enthusiastic\"]]))\n",
    "\n",
    "# Estimate propensity scores and ATE via matching\n",
    "model_c_4.est_propensity()\n",
    "model_c_4.est_via_matching()\n",
    "ate1_4b = round(model_c_4.estimates[\"matching\"][\"ate\"], 4)\n",
    "ate1_4b"
   ]
  },
  {
   "cell_type": "code",
   "execution_count": 8,
   "id": "0310a8f5",
   "metadata": {},
   "outputs": [
    {
     "name": "stdout",
     "output_type": "stream",
     "text": [
      "                            OLS Regression Results                            \n",
      "==============================================================================\n",
      "Dep. Variable:           ln_race_time   R-squared:                       0.304\n",
      "Model:                            OLS   Adj. R-squared:                  0.303\n",
      "Method:                 Least Squares   F-statistic:                     2437.\n",
      "Date:                Wed, 24 Jul 2024   Prob (F-statistic):               0.00\n",
      "Time:                        14:51:29   Log-Likelihood:                 17850.\n",
      "No. Observations:               24699   AIC:                        -3.569e+04\n",
      "Df Residuals:                   24694   BIC:                        -3.565e+04\n",
      "Df Model:                           4                                         \n",
      "Covariance Type:                  HC1                                         \n",
      "================================================================================\n",
      "                   coef    std err          t      P>|t|      [0.025      0.975]\n",
      "--------------------------------------------------------------------------------\n",
      "Intercept        9.6532      0.001   7842.522      0.000       9.651       9.656\n",
      "vaporfly        -0.0658      0.001    -43.994      0.000      -0.069      -0.063\n",
      "male            -0.1285      0.002    -81.963      0.000      -0.132      -0.125\n",
      "seasoned        -0.0878      0.002    -39.585      0.000      -0.092      -0.083\n",
      "enthusiastic    -0.0547      0.004    -15.446      0.000      -0.062      -0.048\n",
      "==============================================================================\n",
      "Omnibus:                      751.285   Durbin-Watson:                   2.006\n",
      "Prob(Omnibus):                  0.000   Jarque-Bera (JB):              859.354\n",
      "Skew:                          -0.402   Prob(JB):                    2.47e-187\n",
      "Kurtosis:                       3.434   Cond. No.                         5.72\n",
      "==============================================================================\n",
      "\n",
      "Notes:\n",
      "[1] Standard Errors are heteroscedasticity robust (HC1)\n"
     ]
    }
   ],
   "source": [
    "# Fit the regression model without age\n",
    "model_reg = smf.ols(formula='ln_race_time ~ vaporfly + male + seasoned + enthusiastic', data=data_marathon).fit()\n",
    "ols_robust2_1 = model_reg.get_robustcov_results(cov_type='HC1')\n",
    "print(ols_robust2_1.summary())"
   ]
  },
  {
   "cell_type": "code",
   "execution_count": 9,
   "id": "457f6e68",
   "metadata": {},
   "outputs": [
    {
     "name": "stdout",
     "output_type": "stream",
     "text": [
      "                            OLS Regression Results                            \n",
      "==============================================================================\n",
      "Dep. Variable:           ln_race_time   R-squared:                       0.464\n",
      "Model:                            OLS   Adj. R-squared:                  0.464\n",
      "Method:                 Least Squares   F-statistic:                     3824.\n",
      "Date:                Wed, 24 Jul 2024   Prob (F-statistic):               0.00\n",
      "Time:                        14:51:36   Log-Likelihood:                 21081.\n",
      "No. Observations:               24699   AIC:                        -4.215e+04\n",
      "Df Residuals:                   24693   BIC:                        -4.210e+04\n",
      "Df Model:                           5                                         \n",
      "Covariance Type:                  HC1                                         \n",
      "================================================================================\n",
      "                   coef    std err          t      P>|t|      [0.025      0.975]\n",
      "--------------------------------------------------------------------------------\n",
      "Intercept        9.9345      0.003   2861.720      0.000       9.928       9.941\n",
      "vaporfly        -0.0426      0.001    -31.883      0.000      -0.045      -0.040\n",
      "male            -0.1296      0.001    -94.077      0.000      -0.132      -0.127\n",
      "seasoned        -0.0889      0.002    -45.999      0.000      -0.093      -0.085\n",
      "enthusiastic    -0.0548      0.003    -17.544      0.000      -0.061      -0.049\n",
      "age             -0.0086      0.000    -84.237      0.000      -0.009      -0.008\n",
      "==============================================================================\n",
      "Omnibus:                      570.884   Durbin-Watson:                   1.993\n",
      "Prob(Omnibus):                  0.000   Jarque-Bera (JB):              646.028\n",
      "Skew:                          -0.341   Prob(JB):                    5.21e-141\n",
      "Kurtosis:                       3.404   Cond. No.                         186.\n",
      "==============================================================================\n",
      "\n",
      "Notes:\n",
      "[1] Standard Errors are heteroscedasticity robust (HC1)\n"
     ]
    }
   ],
   "source": [
    "# Fit the regression model with age included\n",
    "model_reg_with_age = smf.ols(formula='ln_race_time ~ vaporfly + male + seasoned + enthusiastic + age', data=data_marathon).fit()\n",
    "ols_robust2_3 = model_reg_with_age.get_robustcov_results(cov_type='HC1')\n",
    "print(ols_robust2_3.summary())"
   ]
  },
  {
   "cell_type": "markdown",
   "id": "ac45076d",
   "metadata": {},
   "source": [
    "###  Omitted Variable Bias (OVB) Analysis\n",
    "\n",
    "#### a Expected Effect of Omitted Variable `age` on `ln_race_time`\n",
    "\n",
    "Younger runners may find the expensive Vaporfly shoes unaffordable. Furthermore, it is documented that older runners tend to perform better in endurance races like marathons. Therefore, I expect the effect of the omitted variable `age` on `ln_race_time` to be negative, as older runners (who are faster) are likely to reduce their race times.\n",
    "\n",
    "#### b Expected Coefficient of `vaporfly` on `age`\n",
    "\n",
    "As age increases, runners might have more disposable income to afford the Vaporfly shoes. Thus, I would expect a positive coefficient in front of the variable `vaporfly` when regressing the omitted variable `age` on the treatment variable `vaporfly`.\n",
    "\n",
    "#### c. OVB Formula and Expected Bias\n",
    "\n",
    "The formula for omitted variable bias (OVB) is given by:\n",
    "\n",
    "* $\\hat{β}^{s} =\\hat{β}^{l} +\\hat{θ}^{l}\\hat{π}_{1}$\n",
    "* $A_{i} =π_{0}+π_{1}S_{i} +v_{i}$\n",
    "* The OVB is $\\hat{θ}^{l}\\hat{π}_{1}$,  $\\hat{π}_{1}$ is coefficient on  vaporfly($S_{i}$) in a regression of age($A_{i}$) on $S_{i}$\n",
    "* OVB =(\"effect\" of age on ln_race_time)×(\"effect\" of vaporfly on age )\n",
    "* The \"effect\" of age on ln_race_time is negative and the \"effect\" of vaporfly on age is positive, so the omitted variable bias is negative\n",
    "\n",
    "Where $\\hat{θ}^{l}$ is the coefficient on `age` in the regression of `ln_race_time` on `age` and other covariates, and $\\hat{π}_{1}$ is the coefficient on `vaporfly` in the regression of `age` on `vaporfly` and other covariates.\n",
    "\n",
    "Given that the effect of `age` on `ln_race_time` is negative and the effect of `vaporfly` on `age` is positive, I expect the OVB to be negative.\n",
    "\n",
    "### 3. Confirming Omitted Variable Bias\n",
    "\n"
   ]
  },
  {
   "cell_type": "code",
   "execution_count": 11,
   "id": "11457c90",
   "metadata": {},
   "outputs": [
    {
     "name": "stdout",
     "output_type": "stream",
     "text": [
      "                            OLS Regression Results                            \n",
      "==============================================================================\n",
      "Dep. Variable:           ln_race_time   R-squared:                       0.464\n",
      "Model:                            OLS   Adj. R-squared:                  0.464\n",
      "Method:                 Least Squares   F-statistic:                     3824.\n",
      "Date:                Wed, 24 Jul 2024   Prob (F-statistic):               0.00\n",
      "Time:                        15:06:37   Log-Likelihood:                 21081.\n",
      "No. Observations:               24699   AIC:                        -4.215e+04\n",
      "Df Residuals:                   24693   BIC:                        -4.210e+04\n",
      "Df Model:                           5                                         \n",
      "Covariance Type:                  HC1                                         \n",
      "================================================================================\n",
      "                   coef    std err          t      P>|t|      [0.025      0.975]\n",
      "--------------------------------------------------------------------------------\n",
      "Intercept        9.9345      0.003   2861.720      0.000       9.928       9.941\n",
      "vaporfly        -0.0426      0.001    -31.883      0.000      -0.045      -0.040\n",
      "male            -0.1296      0.001    -94.077      0.000      -0.132      -0.127\n",
      "seasoned        -0.0889      0.002    -45.999      0.000      -0.093      -0.085\n",
      "enthusiastic    -0.0548      0.003    -17.544      0.000      -0.061      -0.049\n",
      "age             -0.0086      0.000    -84.237      0.000      -0.009      -0.008\n",
      "==============================================================================\n",
      "Omnibus:                      570.884   Durbin-Watson:                   1.993\n",
      "Prob(Omnibus):                  0.000   Jarque-Bera (JB):              646.028\n",
      "Skew:                          -0.341   Prob(JB):                    5.21e-141\n",
      "Kurtosis:                       3.404   Cond. No.                         186.\n",
      "==============================================================================\n",
      "\n",
      "Notes:\n",
      "[1] Standard Errors are heteroscedasticity robust (HC1)\n"
     ]
    }
   ],
   "source": [
    "# Fit the regression model with age included\n",
    "model_reg_with_age = smf.ols(formula='ln_race_time ~ vaporfly + male + seasoned + enthusiastic + age', data=data_marathon).fit()\n",
    "ols_robust2_3 = model_reg_with_age.get_robustcov_results(cov_type='HC1')\n",
    "print(ols_robust2_3.summary())"
   ]
  },
  {
   "cell_type": "markdown",
   "id": "1f2d5ef1",
   "metadata": {},
   "source": [
    "### Conclusion\n",
    "\n",
    "Our analysis shows that wearing Nike Vaporfly shoes is associated with a significant reduction in marathon completion times, even after controlling for age and other variables. The nearest neighbor matching and propensity score matching methods both indicate a positive treatment effect, supporting Nike's claim that Vaporfly shoes can help runners achieve faster times. The regression analysis further confirms these findings and highlights the importance of controlling for potential confounders such as age.\n",
    "\n",
    "### References\n",
    "\n",
    "- [\"Nike Says Its $250 Running Shoes Will Make You Run Much Faster. What if That’s Actually True?\"](assets/NYT_Nike.pdf)"
   ]
  },
  {
   "cell_type": "code",
   "execution_count": null,
   "id": "64191ceb",
   "metadata": {},
   "outputs": [],
   "source": []
  }
 ],
 "metadata": {
  "kernelspec": {
   "display_name": "MADS2",
   "language": "python",
   "name": "mads"
  },
  "language_info": {
   "codemirror_mode": {
    "name": "ipython",
    "version": 3
   },
   "file_extension": ".py",
   "mimetype": "text/x-python",
   "name": "python",
   "nbconvert_exporter": "python",
   "pygments_lexer": "ipython3",
   "version": "3.8.13"
  }
 },
 "nbformat": 4,
 "nbformat_minor": 5
}
